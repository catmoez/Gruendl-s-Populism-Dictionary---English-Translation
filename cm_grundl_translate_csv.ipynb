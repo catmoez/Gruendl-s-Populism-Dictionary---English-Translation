{
 "cells": [
  {
   "cell_type": "markdown",
   "id": "36448a39-3bff-421b-95e0-617a1dbb50ae",
   "metadata": {},
   "source": [
    "### Translate CSVs"
   ]
  },
  {
   "cell_type": "markdown",
   "id": "5e94384a-9fb0-41fa-b593-113bf1b17f0a",
   "metadata": {},
   "source": [
    "Aug. 5th, 2024 - Catherine Moez - Using guide at https://github.com/nidhaloff/deep-translator"
   ]
  },
  {
   "cell_type": "markdown",
   "id": "1466b7c5-d39c-412f-a6ab-a60fd21c8e30",
   "metadata": {},
   "source": [
    "First run \"pip install -U deep-translator\" in command shell"
   ]
  },
  {
   "cell_type": "code",
   "execution_count": 1,
   "id": "6964afef-aae5-4502-b47f-d09abdde2f06",
   "metadata": {},
   "outputs": [],
   "source": [
    "# load\n",
    "from deep_translator import GoogleTranslator"
   ]
  },
  {
   "cell_type": "code",
   "execution_count": 7,
   "id": "8da18e2e-d1ea-4582-901e-f872eb471879",
   "metadata": {},
   "outputs": [
    {
     "data": {
      "text/plain": [
       "'mach weiter so, du bist großartig'"
      ]
     },
     "execution_count": 7,
     "metadata": {},
     "output_type": "execute_result"
    }
   ],
   "source": [
    "# example one-line translation from auto-detected language to German\n",
    "GoogleTranslator(source='auto', target='de').translate(\"keep it up, you are awesome\")"
   ]
  },
  {
   "cell_type": "code",
   "execution_count": 8,
   "id": "e4c1daf6-b9f4-4db3-8455-9b8c3da5cfef",
   "metadata": {},
   "outputs": [],
   "source": [
    "# open csv of texts to translate (1 'document' per row; 3 columns of text, in this case x 4 countries)\n",
    "import pandas as pd\n",
    "df_grundl = pd.read_csv('grundl/grundl_dictcomplete_csv.csv')"
   ]
  },
  {
   "cell_type": "markdown",
   "id": "22c14fb2-18b5-4b59-96e8-7f6d24724e01",
   "metadata": {},
   "source": [
    "#### Translate German Populism Dictionary"
   ]
  },
  {
   "cell_type": "code",
   "execution_count": null,
   "id": "2794396a-bf79-42dd-b22c-23034362de00",
   "metadata": {},
   "outputs": [],
   "source": [
    "# loop over rows - each loop takes approx 30 min."
   ]
  },
  {
   "cell_type": "code",
   "execution_count": 9,
   "id": "5fd1a98a-74ae-495f-9450-12c30d76adf3",
   "metadata": {},
   "outputs": [],
   "source": [
    "en_list = []\n",
    "\n",
    "for i in range(len(df_grundl)):\n",
    "    origtext = df_grundl.iloc[i,2] # column 3 - Word # note that this includes wildcards - may be mistranslated\n",
    "    #print(origtext) # input\n",
    "    output = GoogleTranslator(source='de', target='en').translate(origtext)\n",
    "    en_list.append(output)\n"
   ]
  },
  {
   "cell_type": "code",
   "execution_count": 10,
   "id": "37a0ab89-c100-4c38-9375-10ff20c59068",
   "metadata": {},
   "outputs": [],
   "source": [
    "# add back into dataframe as a new column\n",
    "df_grundl[\"word_en\"] = en_list"
   ]
  },
  {
   "cell_type": "code",
   "execution_count": 11,
   "id": "55b09f8d-1797-4c7e-9815-cf107b6a397d",
   "metadata": {},
   "outputs": [],
   "source": [
    "# save to new csv\n",
    "df_grundl.to_csv('grundl/grundl_translated.csv', index=False)  "
   ]
  }
 ],
 "metadata": {
  "kernelspec": {
   "display_name": "Python 3 (ipykernel)",
   "language": "python",
   "name": "python3"
  },
  "language_info": {
   "codemirror_mode": {
    "name": "ipython",
    "version": 3
   },
   "file_extension": ".py",
   "mimetype": "text/x-python",
   "name": "python",
   "nbconvert_exporter": "python",
   "pygments_lexer": "ipython3",
   "version": "3.12.1"
  }
 },
 "nbformat": 4,
 "nbformat_minor": 5
}
